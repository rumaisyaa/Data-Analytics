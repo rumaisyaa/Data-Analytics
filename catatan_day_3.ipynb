{
  "cells": [
    {
      "cell_type": "code",
      "execution_count": null,
      "metadata": {
        "id": "eGDNjWf8lVt1"
      },
      "outputs": [],
      "source": [
        "num_list=['12','14',[16,20,30]]\n",
        "num_list"
      ]
    },
    {
      "cell_type": "code",
      "execution_count": null,
      "metadata": {
        "colab": {
          "base_uri": "https://localhost:8080/",
          "height": 35
        },
        "id": "VW8NseBhmDuz",
        "outputId": "ad817810-ec6a-428f-beee-05f8c7dfb4a8"
      },
      "outputs": [
        {
          "data": {
            "application/vnd.google.colaboratory.intrinsic+json": {
              "type": "string"
            },
            "text/plain": [
              "'14'"
            ]
          },
          "execution_count": 2,
          "metadata": {},
          "output_type": "execute_result"
        }
      ],
      "source": [
        "num_list[1]"
      ]
    },
    {
      "cell_type": "code",
      "execution_count": null,
      "metadata": {
        "colab": {
          "base_uri": "https://localhost:8080/"
        },
        "id": "WzGSeQYpmKWi",
        "outputId": "e3f6c1a1-b4fb-4367-dc73-224c3df0d9a1"
      },
      "outputs": [
        {
          "data": {
            "text/plain": [
              "[16, 20, 30]"
            ]
          },
          "execution_count": 5,
          "metadata": {},
          "output_type": "execute_result"
        }
      ],
      "source": [
        "num_list[2]"
      ]
    },
    {
      "cell_type": "code",
      "execution_count": null,
      "metadata": {
        "colab": {
          "base_uri": "https://localhost:8080/"
        },
        "id": "kjFxdpMSmg9N",
        "outputId": "f59292e2-1b3c-44d0-dbec-8dfe31cafd5a"
      },
      "outputs": [
        {
          "data": {
            "text/plain": [
              "20"
            ]
          },
          "execution_count": 6,
          "metadata": {},
          "output_type": "execute_result"
        }
      ],
      "source": [
        "num_list[2][1]"
      ]
    },
    {
      "cell_type": "code",
      "execution_count": null,
      "metadata": {
        "id": "M6RgFsjDnY-9"
      },
      "outputs": [],
      "source": [
        "numbers=[2,3,6,20,22]"
      ]
    },
    {
      "cell_type": "code",
      "execution_count": null,
      "metadata": {
        "colab": {
          "base_uri": "https://localhost:8080/"
        },
        "id": "pd350lfWnec2",
        "outputId": "a133a3cc-4b01-4cb5-8da3-c955339fdc71"
      },
      "outputs": [
        {
          "data": {
            "text/plain": [
              "20"
            ]
          },
          "execution_count": 16,
          "metadata": {},
          "output_type": "execute_result"
        }
      ],
      "source": [
        "max(numbers)-min(numbers)"
      ]
    },
    {
      "cell_type": "code",
      "execution_count": null,
      "metadata": {
        "colab": {
          "base_uri": "https://localhost:8080/"
        },
        "id": "LFsXF27Fn_VK",
        "outputId": "7d0665a4-6de8-444d-a7a3-f11d0b08839c"
      },
      "outputs": [
        {
          "data": {
            "text/plain": [
              "53"
            ]
          },
          "execution_count": 17,
          "metadata": {},
          "output_type": "execute_result"
        }
      ],
      "source": [
        "sum(numbers)"
      ]
    },
    {
      "cell_type": "code",
      "execution_count": null,
      "metadata": {
        "id": "csOO8bIrqd54"
      },
      "outputs": [],
      "source": [
        "brand=['samsung','Dell','Apple']\n",
        "stock=[27,20,100]\n",
        "type_k = ['PC','Laptop','Tablet']"
      ]
    },
    {
      "cell_type": "code",
      "execution_count": null,
      "metadata": {
        "colab": {
          "base_uri": "https://localhost:8080/"
        },
        "id": "oCdt4z0tq-tQ",
        "outputId": "fa542583-beb4-45b0-f3ca-8b7b0dfe99de"
      },
      "outputs": [
        {
          "data": {
            "text/plain": [
              "{}"
            ]
          },
          "execution_count": 24,
          "metadata": {},
          "output_type": "execute_result"
        }
      ],
      "source": [
        "dict_phone = {\n",
        "    \n",
        "\n",
        "}\n",
        "dict_phone\n"
      ]
    },
    {
      "cell_type": "code",
      "execution_count": null,
      "metadata": {
        "colab": {
          "base_uri": "https://localhost:8080/"
        },
        "id": "XHdXL-rTsF0l",
        "outputId": "1b0c724c-6d59-437c-84c4-4ed81960bceb"
      },
      "outputs": [
        {
          "data": {
            "text/plain": [
              "{'name': ['Budi', 'Jessica'], 'age': [19, 24]}"
            ]
          },
          "execution_count": 36,
          "metadata": {},
          "output_type": "execute_result"
        }
      ],
      "source": [
        "Students={ \n",
        "'name':['Budi','Jessica'],\n",
        "'age':[19,24]\n",
        "}\n",
        "\n",
        "Students\n"
      ]
    },
    {
      "cell_type": "code",
      "execution_count": null,
      "metadata": {
        "colab": {
          "background_save": true,
          "base_uri": "https://localhost:8080/",
          "height": 132
        },
        "id": "Fd5goC9rszUJ",
        "outputId": "14efb512-2e31-438b-c75a-a25a8ee1f3aa"
      },
      "outputs": [
        {
          "ename": "SyntaxError",
          "evalue": "ignored",
          "output_type": "error",
          "traceback": [
            "\u001b[0;36m  File \u001b[0;32m\"<ipython-input-39-860bc84e0118>\"\u001b[0;36m, line \u001b[0;32m1\u001b[0m\n\u001b[0;31m    students['name']remove(\"Jessica\")\u001b[0m\n\u001b[0m                    ^\u001b[0m\n\u001b[0;31mSyntaxError\u001b[0m\u001b[0;31m:\u001b[0m invalid syntax\n"
          ]
        }
      ],
      "source": [
        "students['name']remove(\"Jessica\")"
      ]
    }
  ],
  "metadata": {
    "colab": {
      "provenance": []
    },
    "kernelspec": {
      "display_name": "Python 3",
      "name": "python3"
    },
    "language_info": {
      "name": "python"
    }
  },
  "nbformat": 4,
  "nbformat_minor": 0
}